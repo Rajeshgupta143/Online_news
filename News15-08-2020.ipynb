{
 "cells": [
  {
   "cell_type": "markdown",
   "metadata": {},
   "source": [
    "## Online News Popularity"
   ]
  },
  {
   "cell_type": "markdown",
   "metadata": {},
   "source": [
    "### Problem Statement:"
   ]
  },
  {
   "cell_type": "markdown",
   "metadata": {},
   "source": [
    "- The main aim of this project is to predict the future popularity of news article prior to its publication estimating the no. of likes,shares and comments etc..(features of an article) . The dataset is publically available at https://archive.ics.uci.edu/ml/datasets/Online+News+Popularity#. So my goal is to predict the online news article popularity. Here I am using classification models to find the accuracy of each model and select the best model with high accuracy to predict the popularity. Here the input parameters are training data that we took and the output will be whether the news article is going to be popular or not."
   ]
  },
  {
   "cell_type": "markdown",
   "metadata": {},
   "source": [
    "### Solution Statement:"
   ]
  },
  {
   "cell_type": "markdown",
   "metadata": {},
   "source": [
    "- Here, I am predicting the popularity of the online news from the selected dataset. For predicting, we will use different classification models.\n",
    "\n",
    "- In this project, I will implement a classification task for online news popularity prediction using python and machine learning toolbox sklearn. Then we will find the accuracy score for each model. I explore the dataset by using read_csv and for visualization which helps me to better understand the solution, I used matplotlib.pyplot."
   ]
  },
  {
   "cell_type": "markdown",
   "metadata": {},
   "source": [
    "### Benchmark Model:"
   ]
  },
  {
   "cell_type": "markdown",
   "metadata": {},
   "source": [
    "- Benchmark model is a model which we will take as reference and achieve the best result than the benchmark model .Here Accuracy score will be compared among the different classification models(Adaboost,Random Forest,Logistic regression) and the best model is selected."
   ]
  },
  {
   "cell_type": "code",
   "execution_count": 1,
   "metadata": {},
   "outputs": [],
   "source": [
    "# import packages\n",
    "import numpy as np\n",
    "import pandas as pd\n",
    "import matplotlib.pyplot as plt\n",
    "import seaborn as sns\n",
    "%matplotlib inline"
   ]
  },
  {
   "cell_type": "code",
   "execution_count": 140,
   "metadata": {},
   "outputs": [
    {
     "data": {
      "text/html": [
       "<div>\n",
       "<style scoped>\n",
       "    .dataframe tbody tr th:only-of-type {\n",
       "        vertical-align: middle;\n",
       "    }\n",
       "\n",
       "    .dataframe tbody tr th {\n",
       "        vertical-align: top;\n",
       "    }\n",
       "\n",
       "    .dataframe thead th {\n",
       "        text-align: right;\n",
       "    }\n",
       "</style>\n",
       "<table border=\"1\" class=\"dataframe\">\n",
       "  <thead>\n",
       "    <tr style=\"text-align: right;\">\n",
       "      <th></th>\n",
       "      <th>url</th>\n",
       "      <th>timedelta</th>\n",
       "      <th>n_tokens_title</th>\n",
       "      <th>n_tokens_content</th>\n",
       "      <th>n_unique_tokens</th>\n",
       "      <th>n_non_stop_words</th>\n",
       "      <th>n_non_stop_unique_tokens</th>\n",
       "      <th>num_hrefs</th>\n",
       "      <th>num_self_hrefs</th>\n",
       "      <th>num_imgs</th>\n",
       "      <th>...</th>\n",
       "      <th>min_positive_polarity</th>\n",
       "      <th>max_positive_polarity</th>\n",
       "      <th>avg_negative_polarity</th>\n",
       "      <th>min_negative_polarity</th>\n",
       "      <th>max_negative_polarity</th>\n",
       "      <th>title_subjectivity</th>\n",
       "      <th>title_sentiment_polarity</th>\n",
       "      <th>abs_title_subjectivity</th>\n",
       "      <th>abs_title_sentiment_polarity</th>\n",
       "      <th>shares</th>\n",
       "    </tr>\n",
       "  </thead>\n",
       "  <tbody>\n",
       "    <tr>\n",
       "      <th>0</th>\n",
       "      <td>http://mashable.com/2013/01/07/amazon-instant-...</td>\n",
       "      <td>731.0</td>\n",
       "      <td>12.0</td>\n",
       "      <td>219.0</td>\n",
       "      <td>0.663594</td>\n",
       "      <td>1.0</td>\n",
       "      <td>0.815385</td>\n",
       "      <td>4.0</td>\n",
       "      <td>2.0</td>\n",
       "      <td>1.0</td>\n",
       "      <td>...</td>\n",
       "      <td>0.100000</td>\n",
       "      <td>0.7</td>\n",
       "      <td>-0.350000</td>\n",
       "      <td>-0.600</td>\n",
       "      <td>-0.200000</td>\n",
       "      <td>0.500000</td>\n",
       "      <td>-0.187500</td>\n",
       "      <td>0.000000</td>\n",
       "      <td>0.187500</td>\n",
       "      <td>593.0</td>\n",
       "    </tr>\n",
       "    <tr>\n",
       "      <th>1</th>\n",
       "      <td>http://mashable.com/2013/01/07/ap-samsung-spon...</td>\n",
       "      <td>731.0</td>\n",
       "      <td>9.0</td>\n",
       "      <td>255.0</td>\n",
       "      <td>0.604743</td>\n",
       "      <td>1.0</td>\n",
       "      <td>0.791946</td>\n",
       "      <td>3.0</td>\n",
       "      <td>1.0</td>\n",
       "      <td>1.0</td>\n",
       "      <td>...</td>\n",
       "      <td>0.033333</td>\n",
       "      <td>0.7</td>\n",
       "      <td>-0.118750</td>\n",
       "      <td>-0.125</td>\n",
       "      <td>-0.100000</td>\n",
       "      <td>0.000000</td>\n",
       "      <td>0.000000</td>\n",
       "      <td>0.500000</td>\n",
       "      <td>0.000000</td>\n",
       "      <td>711.0</td>\n",
       "    </tr>\n",
       "    <tr>\n",
       "      <th>2</th>\n",
       "      <td>http://mashable.com/2013/01/07/apple-40-billio...</td>\n",
       "      <td>731.0</td>\n",
       "      <td>9.0</td>\n",
       "      <td>211.0</td>\n",
       "      <td>0.575130</td>\n",
       "      <td>1.0</td>\n",
       "      <td>0.663866</td>\n",
       "      <td>3.0</td>\n",
       "      <td>1.0</td>\n",
       "      <td>1.0</td>\n",
       "      <td>...</td>\n",
       "      <td>0.100000</td>\n",
       "      <td>1.0</td>\n",
       "      <td>-0.466667</td>\n",
       "      <td>-0.800</td>\n",
       "      <td>-0.133333</td>\n",
       "      <td>0.000000</td>\n",
       "      <td>0.000000</td>\n",
       "      <td>0.500000</td>\n",
       "      <td>0.000000</td>\n",
       "      <td>1500.0</td>\n",
       "    </tr>\n",
       "    <tr>\n",
       "      <th>3</th>\n",
       "      <td>http://mashable.com/2013/01/07/astronaut-notre...</td>\n",
       "      <td>731.0</td>\n",
       "      <td>9.0</td>\n",
       "      <td>531.0</td>\n",
       "      <td>0.503788</td>\n",
       "      <td>1.0</td>\n",
       "      <td>0.665635</td>\n",
       "      <td>9.0</td>\n",
       "      <td>0.0</td>\n",
       "      <td>1.0</td>\n",
       "      <td>...</td>\n",
       "      <td>0.136364</td>\n",
       "      <td>0.8</td>\n",
       "      <td>-0.369697</td>\n",
       "      <td>-0.600</td>\n",
       "      <td>-0.166667</td>\n",
       "      <td>0.000000</td>\n",
       "      <td>0.000000</td>\n",
       "      <td>0.500000</td>\n",
       "      <td>0.000000</td>\n",
       "      <td>1200.0</td>\n",
       "    </tr>\n",
       "    <tr>\n",
       "      <th>4</th>\n",
       "      <td>http://mashable.com/2013/01/07/att-u-verse-apps/</td>\n",
       "      <td>731.0</td>\n",
       "      <td>13.0</td>\n",
       "      <td>1072.0</td>\n",
       "      <td>0.415646</td>\n",
       "      <td>1.0</td>\n",
       "      <td>0.540890</td>\n",
       "      <td>19.0</td>\n",
       "      <td>19.0</td>\n",
       "      <td>20.0</td>\n",
       "      <td>...</td>\n",
       "      <td>0.033333</td>\n",
       "      <td>1.0</td>\n",
       "      <td>-0.220192</td>\n",
       "      <td>-0.500</td>\n",
       "      <td>-0.050000</td>\n",
       "      <td>0.454545</td>\n",
       "      <td>0.136364</td>\n",
       "      <td>0.045455</td>\n",
       "      <td>0.136364</td>\n",
       "      <td>505.0</td>\n",
       "    </tr>\n",
       "  </tbody>\n",
       "</table>\n",
       "<p>5 rows × 61 columns</p>\n",
       "</div>"
      ],
      "text/plain": [
       "                                                 url   timedelta  \\\n",
       "0  http://mashable.com/2013/01/07/amazon-instant-...       731.0   \n",
       "1  http://mashable.com/2013/01/07/ap-samsung-spon...       731.0   \n",
       "2  http://mashable.com/2013/01/07/apple-40-billio...       731.0   \n",
       "3  http://mashable.com/2013/01/07/astronaut-notre...       731.0   \n",
       "4   http://mashable.com/2013/01/07/att-u-verse-apps/       731.0   \n",
       "\n",
       "    n_tokens_title   n_tokens_content   n_unique_tokens   n_non_stop_words  \\\n",
       "0             12.0              219.0          0.663594                1.0   \n",
       "1              9.0              255.0          0.604743                1.0   \n",
       "2              9.0              211.0          0.575130                1.0   \n",
       "3              9.0              531.0          0.503788                1.0   \n",
       "4             13.0             1072.0          0.415646                1.0   \n",
       "\n",
       "    n_non_stop_unique_tokens   num_hrefs   num_self_hrefs   num_imgs  ...  \\\n",
       "0                   0.815385         4.0              2.0        1.0  ...   \n",
       "1                   0.791946         3.0              1.0        1.0  ...   \n",
       "2                   0.663866         3.0              1.0        1.0  ...   \n",
       "3                   0.665635         9.0              0.0        1.0  ...   \n",
       "4                   0.540890        19.0             19.0       20.0  ...   \n",
       "\n",
       "    min_positive_polarity   max_positive_polarity   avg_negative_polarity  \\\n",
       "0                0.100000                     0.7               -0.350000   \n",
       "1                0.033333                     0.7               -0.118750   \n",
       "2                0.100000                     1.0               -0.466667   \n",
       "3                0.136364                     0.8               -0.369697   \n",
       "4                0.033333                     1.0               -0.220192   \n",
       "\n",
       "    min_negative_polarity   max_negative_polarity   title_subjectivity  \\\n",
       "0                  -0.600               -0.200000             0.500000   \n",
       "1                  -0.125               -0.100000             0.000000   \n",
       "2                  -0.800               -0.133333             0.000000   \n",
       "3                  -0.600               -0.166667             0.000000   \n",
       "4                  -0.500               -0.050000             0.454545   \n",
       "\n",
       "    title_sentiment_polarity   abs_title_subjectivity  \\\n",
       "0                  -0.187500                 0.000000   \n",
       "1                   0.000000                 0.500000   \n",
       "2                   0.000000                 0.500000   \n",
       "3                   0.000000                 0.500000   \n",
       "4                   0.136364                 0.045455   \n",
       "\n",
       "    abs_title_sentiment_polarity   shares  \n",
       "0                       0.187500    593.0  \n",
       "1                       0.000000    711.0  \n",
       "2                       0.000000   1500.0  \n",
       "3                       0.000000   1200.0  \n",
       "4                       0.136364    505.0  \n",
       "\n",
       "[5 rows x 61 columns]"
      ]
     },
     "execution_count": 140,
     "metadata": {},
     "output_type": "execute_result"
    }
   ],
   "source": [
    "# read the data file\n",
    "df=pd.read_csv(\"D:/AI_ML Course/summer internship data/News/news.csv\")\n",
    "df.head()"
   ]
  },
  {
   "cell_type": "code",
   "execution_count": 141,
   "metadata": {},
   "outputs": [],
   "source": [
    "# remove space in column\n",
    "df.columns = df.columns.str.replace(' ', '')"
   ]
  },
  {
   "cell_type": "code",
   "execution_count": 4,
   "metadata": {},
   "outputs": [
    {
     "data": {
      "text/plain": [
       "(8511, 61)"
      ]
     },
     "execution_count": 4,
     "metadata": {},
     "output_type": "execute_result"
    }
   ],
   "source": [
    "# checking shape\n",
    "df.shape"
   ]
  },
  {
   "cell_type": "code",
   "execution_count": 5,
   "metadata": {},
   "outputs": [
    {
     "data": {
      "text/plain": [
       "Index(['url', 'timedelta', 'n_tokens_title', 'n_tokens_content',\n",
       "       'n_unique_tokens', 'n_non_stop_words', 'n_non_stop_unique_tokens',\n",
       "       'num_hrefs', 'num_self_hrefs', 'num_imgs', 'num_videos',\n",
       "       'average_token_length', 'num_keywords', 'data_channel_is_lifestyle',\n",
       "       'data_channel_is_entertainment', 'data_channel_is_bus',\n",
       "       'data_channel_is_socmed', 'data_channel_is_tech',\n",
       "       'data_channel_is_world', 'kw_min_min', 'kw_max_min', 'kw_avg_min',\n",
       "       'kw_min_max', 'kw_max_max', 'kw_avg_max', 'kw_min_avg', 'kw_max_avg',\n",
       "       'kw_avg_avg', 'self_reference_min_shares', 'self_reference_max_shares',\n",
       "       'self_reference_avg_sharess', 'weekday_is_monday', 'weekday_is_tuesday',\n",
       "       'weekday_is_wednesday', 'weekday_is_thursday', 'weekday_is_friday',\n",
       "       'weekday_is_saturday', 'weekday_is_sunday', 'is_weekend', 'LDA_00',\n",
       "       'LDA_01', 'LDA_02', 'LDA_03', 'LDA_04', 'global_subjectivity',\n",
       "       'global_sentiment_polarity', 'global_rate_positive_words',\n",
       "       'global_rate_negative_words', 'rate_positive_words',\n",
       "       'rate_negative_words', 'avg_positive_polarity', 'min_positive_polarity',\n",
       "       'max_positive_polarity', 'avg_negative_polarity',\n",
       "       'min_negative_polarity', 'max_negative_polarity', 'title_subjectivity',\n",
       "       'title_sentiment_polarity', 'abs_title_subjectivity',\n",
       "       'abs_title_sentiment_polarity', 'shares'],\n",
       "      dtype='object')"
      ]
     },
     "execution_count": 5,
     "metadata": {},
     "output_type": "execute_result"
    }
   ],
   "source": [
    "# read the columns name\n",
    "df.columns"
   ]
  },
  {
   "cell_type": "code",
   "execution_count": 6,
   "metadata": {},
   "outputs": [
    {
     "name": "stdout",
     "output_type": "stream",
     "text": [
      "<class 'pandas.core.frame.DataFrame'>\n",
      "RangeIndex: 8511 entries, 0 to 8510\n",
      "Data columns (total 61 columns):\n",
      " #   Column                         Non-Null Count  Dtype  \n",
      "---  ------                         --------------  -----  \n",
      " 0   url                            8511 non-null   object \n",
      " 1   timedelta                      8511 non-null   float64\n",
      " 2   n_tokens_title                 8511 non-null   float64\n",
      " 3   n_tokens_content               8511 non-null   float64\n",
      " 4   n_unique_tokens                8511 non-null   float64\n",
      " 5   n_non_stop_words               8511 non-null   float64\n",
      " 6   n_non_stop_unique_tokens       8511 non-null   float64\n",
      " 7   num_hrefs                      8511 non-null   float64\n",
      " 8   num_self_hrefs                 8511 non-null   float64\n",
      " 9   num_imgs                       8511 non-null   float64\n",
      " 10  num_videos                     8511 non-null   float64\n",
      " 11  average_token_length           8511 non-null   float64\n",
      " 12  num_keywords                   8511 non-null   float64\n",
      " 13  data_channel_is_lifestyle      8511 non-null   float64\n",
      " 14  data_channel_is_entertainment  8511 non-null   float64\n",
      " 15  data_channel_is_bus            8511 non-null   float64\n",
      " 16  data_channel_is_socmed         8511 non-null   float64\n",
      " 17  data_channel_is_tech           8511 non-null   float64\n",
      " 18  data_channel_is_world          8511 non-null   float64\n",
      " 19  kw_min_min                     8511 non-null   float64\n",
      " 20  kw_max_min                     8511 non-null   float64\n",
      " 21  kw_avg_min                     8511 non-null   float64\n",
      " 22  kw_min_max                     8511 non-null   float64\n",
      " 23  kw_max_max                     8511 non-null   float64\n",
      " 24  kw_avg_max                     8511 non-null   float64\n",
      " 25  kw_min_avg                     8511 non-null   float64\n",
      " 26  kw_max_avg                     8511 non-null   float64\n",
      " 27  kw_avg_avg                     8511 non-null   float64\n",
      " 28  self_reference_min_shares      8511 non-null   float64\n",
      " 29  self_reference_max_shares      8511 non-null   float64\n",
      " 30  self_reference_avg_sharess     8511 non-null   float64\n",
      " 31  weekday_is_monday              8511 non-null   float64\n",
      " 32  weekday_is_tuesday             8511 non-null   float64\n",
      " 33  weekday_is_wednesday           8511 non-null   float64\n",
      " 34  weekday_is_thursday            8511 non-null   float64\n",
      " 35  weekday_is_friday              8511 non-null   float64\n",
      " 36  weekday_is_saturday            8511 non-null   float64\n",
      " 37  weekday_is_sunday              8511 non-null   float64\n",
      " 38  is_weekend                     8511 non-null   float64\n",
      " 39  LDA_00                         8511 non-null   float64\n",
      " 40  LDA_01                         8511 non-null   float64\n",
      " 41  LDA_02                         8511 non-null   float64\n",
      " 42  LDA_03                         8511 non-null   float64\n",
      " 43  LDA_04                         8511 non-null   float64\n",
      " 44  global_subjectivity            8511 non-null   float64\n",
      " 45  global_sentiment_polarity      8511 non-null   float64\n",
      " 46  global_rate_positive_words     8511 non-null   float64\n",
      " 47  global_rate_negative_words     8510 non-null   float64\n",
      " 48  rate_positive_words            8510 non-null   float64\n",
      " 49  rate_negative_words            8510 non-null   float64\n",
      " 50  avg_positive_polarity          8510 non-null   float64\n",
      " 51  min_positive_polarity          8510 non-null   float64\n",
      " 52  max_positive_polarity          8510 non-null   float64\n",
      " 53  avg_negative_polarity          8510 non-null   float64\n",
      " 54  min_negative_polarity          8510 non-null   float64\n",
      " 55  max_negative_polarity          8510 non-null   float64\n",
      " 56  title_subjectivity             8510 non-null   float64\n",
      " 57  title_sentiment_polarity       8510 non-null   float64\n",
      " 58  abs_title_subjectivity         8510 non-null   float64\n",
      " 59  abs_title_sentiment_polarity   8510 non-null   float64\n",
      " 60  shares                         8510 non-null   float64\n",
      "dtypes: float64(60), object(1)\n",
      "memory usage: 3.9+ MB\n"
     ]
    }
   ],
   "source": [
    "# read the information\n",
    "df.info()"
   ]
  },
  {
   "cell_type": "code",
   "execution_count": 7,
   "metadata": {},
   "outputs": [
    {
     "data": {
      "text/html": [
       "<div>\n",
       "<style scoped>\n",
       "    .dataframe tbody tr th:only-of-type {\n",
       "        vertical-align: middle;\n",
       "    }\n",
       "\n",
       "    .dataframe tbody tr th {\n",
       "        vertical-align: top;\n",
       "    }\n",
       "\n",
       "    .dataframe thead th {\n",
       "        text-align: right;\n",
       "    }\n",
       "</style>\n",
       "<table border=\"1\" class=\"dataframe\">\n",
       "  <thead>\n",
       "    <tr style=\"text-align: right;\">\n",
       "      <th></th>\n",
       "      <th>timedelta</th>\n",
       "      <th>n_tokens_title</th>\n",
       "      <th>n_tokens_content</th>\n",
       "      <th>n_unique_tokens</th>\n",
       "      <th>n_non_stop_words</th>\n",
       "      <th>n_non_stop_unique_tokens</th>\n",
       "      <th>num_hrefs</th>\n",
       "      <th>num_self_hrefs</th>\n",
       "      <th>num_imgs</th>\n",
       "      <th>num_videos</th>\n",
       "      <th>...</th>\n",
       "      <th>min_positive_polarity</th>\n",
       "      <th>max_positive_polarity</th>\n",
       "      <th>avg_negative_polarity</th>\n",
       "      <th>min_negative_polarity</th>\n",
       "      <th>max_negative_polarity</th>\n",
       "      <th>title_subjectivity</th>\n",
       "      <th>title_sentiment_polarity</th>\n",
       "      <th>abs_title_subjectivity</th>\n",
       "      <th>abs_title_sentiment_polarity</th>\n",
       "      <th>shares</th>\n",
       "    </tr>\n",
       "  </thead>\n",
       "  <tbody>\n",
       "    <tr>\n",
       "      <th>count</th>\n",
       "      <td>8511.000000</td>\n",
       "      <td>8511.000000</td>\n",
       "      <td>8511.000000</td>\n",
       "      <td>8511.000000</td>\n",
       "      <td>8511.000000</td>\n",
       "      <td>8511.000000</td>\n",
       "      <td>8511.000000</td>\n",
       "      <td>8511.000000</td>\n",
       "      <td>8511.000000</td>\n",
       "      <td>8511.000000</td>\n",
       "      <td>...</td>\n",
       "      <td>8510.000000</td>\n",
       "      <td>8510.000000</td>\n",
       "      <td>8510.000000</td>\n",
       "      <td>8510.000000</td>\n",
       "      <td>8510.000000</td>\n",
       "      <td>8510.000000</td>\n",
       "      <td>8510.000000</td>\n",
       "      <td>8510.000000</td>\n",
       "      <td>8510.000000</td>\n",
       "      <td>8510.000000</td>\n",
       "    </tr>\n",
       "    <tr>\n",
       "      <th>mean</th>\n",
       "      <td>653.905769</td>\n",
       "      <td>9.763953</td>\n",
       "      <td>480.123135</td>\n",
       "      <td>0.561722</td>\n",
       "      <td>0.991658</td>\n",
       "      <td>0.704537</td>\n",
       "      <td>9.620256</td>\n",
       "      <td>3.228175</td>\n",
       "      <td>3.597932</td>\n",
       "      <td>1.228058</td>\n",
       "      <td>...</td>\n",
       "      <td>0.098633</td>\n",
       "      <td>0.762865</td>\n",
       "      <td>-0.253786</td>\n",
       "      <td>-0.485351</td>\n",
       "      <td>-0.113154</td>\n",
       "      <td>0.273500</td>\n",
       "      <td>0.081225</td>\n",
       "      <td>0.348659</td>\n",
       "      <td>0.153195</td>\n",
       "      <td>3276.490599</td>\n",
       "    </tr>\n",
       "    <tr>\n",
       "      <th>std</th>\n",
       "      <td>46.699092</td>\n",
       "      <td>1.958524</td>\n",
       "      <td>397.579228</td>\n",
       "      <td>0.120082</td>\n",
       "      <td>0.090959</td>\n",
       "      <td>0.122933</td>\n",
       "      <td>9.992198</td>\n",
       "      <td>4.413750</td>\n",
       "      <td>7.644942</td>\n",
       "      <td>4.508594</td>\n",
       "      <td>...</td>\n",
       "      <td>0.071665</td>\n",
       "      <td>0.227036</td>\n",
       "      <td>0.126297</td>\n",
       "      <td>0.276178</td>\n",
       "      <td>0.098308</td>\n",
       "      <td>0.324496</td>\n",
       "      <td>0.262122</td>\n",
       "      <td>0.187160</td>\n",
       "      <td>0.227672</td>\n",
       "      <td>12242.604582</td>\n",
       "    </tr>\n",
       "    <tr>\n",
       "      <th>min</th>\n",
       "      <td>570.000000</td>\n",
       "      <td>2.000000</td>\n",
       "      <td>0.000000</td>\n",
       "      <td>0.000000</td>\n",
       "      <td>0.000000</td>\n",
       "      <td>0.000000</td>\n",
       "      <td>0.000000</td>\n",
       "      <td>0.000000</td>\n",
       "      <td>0.000000</td>\n",
       "      <td>0.000000</td>\n",
       "      <td>...</td>\n",
       "      <td>0.000000</td>\n",
       "      <td>0.000000</td>\n",
       "      <td>-1.000000</td>\n",
       "      <td>-1.000000</td>\n",
       "      <td>-1.000000</td>\n",
       "      <td>0.000000</td>\n",
       "      <td>-1.000000</td>\n",
       "      <td>0.000000</td>\n",
       "      <td>0.000000</td>\n",
       "      <td>4.000000</td>\n",
       "    </tr>\n",
       "    <tr>\n",
       "      <th>25%</th>\n",
       "      <td>613.000000</td>\n",
       "      <td>8.000000</td>\n",
       "      <td>221.000000</td>\n",
       "      <td>0.488545</td>\n",
       "      <td>1.000000</td>\n",
       "      <td>0.644084</td>\n",
       "      <td>4.000000</td>\n",
       "      <td>1.000000</td>\n",
       "      <td>0.000000</td>\n",
       "      <td>0.000000</td>\n",
       "      <td>...</td>\n",
       "      <td>0.050000</td>\n",
       "      <td>0.600000</td>\n",
       "      <td>-0.322222</td>\n",
       "      <td>-0.700000</td>\n",
       "      <td>-0.125000</td>\n",
       "      <td>0.000000</td>\n",
       "      <td>0.000000</td>\n",
       "      <td>0.166667</td>\n",
       "      <td>0.000000</td>\n",
       "      <td>1000.000000</td>\n",
       "    </tr>\n",
       "    <tr>\n",
       "      <th>50%</th>\n",
       "      <td>657.000000</td>\n",
       "      <td>10.000000</td>\n",
       "      <td>354.000000</td>\n",
       "      <td>0.561265</td>\n",
       "      <td>1.000000</td>\n",
       "      <td>0.710306</td>\n",
       "      <td>7.000000</td>\n",
       "      <td>2.000000</td>\n",
       "      <td>1.000000</td>\n",
       "      <td>0.000000</td>\n",
       "      <td>...</td>\n",
       "      <td>0.100000</td>\n",
       "      <td>0.800000</td>\n",
       "      <td>-0.247222</td>\n",
       "      <td>-0.500000</td>\n",
       "      <td>-0.100000</td>\n",
       "      <td>0.100000</td>\n",
       "      <td>0.000000</td>\n",
       "      <td>0.500000</td>\n",
       "      <td>0.000000</td>\n",
       "      <td>1600.000000</td>\n",
       "    </tr>\n",
       "    <tr>\n",
       "      <th>75%</th>\n",
       "      <td>695.000000</td>\n",
       "      <td>11.000000</td>\n",
       "      <td>621.000000</td>\n",
       "      <td>0.634743</td>\n",
       "      <td>1.000000</td>\n",
       "      <td>0.777778</td>\n",
       "      <td>12.000000</td>\n",
       "      <td>4.000000</td>\n",
       "      <td>1.000000</td>\n",
       "      <td>1.000000</td>\n",
       "      <td>...</td>\n",
       "      <td>0.100000</td>\n",
       "      <td>1.000000</td>\n",
       "      <td>-0.178125</td>\n",
       "      <td>-0.291667</td>\n",
       "      <td>-0.050000</td>\n",
       "      <td>0.500000</td>\n",
       "      <td>0.150000</td>\n",
       "      <td>0.500000</td>\n",
       "      <td>0.250000</td>\n",
       "      <td>2900.000000</td>\n",
       "    </tr>\n",
       "    <tr>\n",
       "      <th>max</th>\n",
       "      <td>731.000000</td>\n",
       "      <td>18.000000</td>\n",
       "      <td>4125.000000</td>\n",
       "      <td>1.000000</td>\n",
       "      <td>1.000000</td>\n",
       "      <td>1.000000</td>\n",
       "      <td>171.000000</td>\n",
       "      <td>74.000000</td>\n",
       "      <td>99.000000</td>\n",
       "      <td>75.000000</td>\n",
       "      <td>...</td>\n",
       "      <td>1.000000</td>\n",
       "      <td>1.000000</td>\n",
       "      <td>0.000000</td>\n",
       "      <td>0.000000</td>\n",
       "      <td>0.000000</td>\n",
       "      <td>1.000000</td>\n",
       "      <td>1.000000</td>\n",
       "      <td>0.500000</td>\n",
       "      <td>1.000000</td>\n",
       "      <td>690400.000000</td>\n",
       "    </tr>\n",
       "  </tbody>\n",
       "</table>\n",
       "<p>8 rows × 60 columns</p>\n",
       "</div>"
      ],
      "text/plain": [
       "         timedelta  n_tokens_title  n_tokens_content  n_unique_tokens  \\\n",
       "count  8511.000000     8511.000000       8511.000000      8511.000000   \n",
       "mean    653.905769        9.763953        480.123135         0.561722   \n",
       "std      46.699092        1.958524        397.579228         0.120082   \n",
       "min     570.000000        2.000000          0.000000         0.000000   \n",
       "25%     613.000000        8.000000        221.000000         0.488545   \n",
       "50%     657.000000       10.000000        354.000000         0.561265   \n",
       "75%     695.000000       11.000000        621.000000         0.634743   \n",
       "max     731.000000       18.000000       4125.000000         1.000000   \n",
       "\n",
       "       n_non_stop_words  n_non_stop_unique_tokens    num_hrefs  \\\n",
       "count       8511.000000               8511.000000  8511.000000   \n",
       "mean           0.991658                  0.704537     9.620256   \n",
       "std            0.090959                  0.122933     9.992198   \n",
       "min            0.000000                  0.000000     0.000000   \n",
       "25%            1.000000                  0.644084     4.000000   \n",
       "50%            1.000000                  0.710306     7.000000   \n",
       "75%            1.000000                  0.777778    12.000000   \n",
       "max            1.000000                  1.000000   171.000000   \n",
       "\n",
       "       num_self_hrefs     num_imgs   num_videos  ...  min_positive_polarity  \\\n",
       "count     8511.000000  8511.000000  8511.000000  ...            8510.000000   \n",
       "mean         3.228175     3.597932     1.228058  ...               0.098633   \n",
       "std          4.413750     7.644942     4.508594  ...               0.071665   \n",
       "min          0.000000     0.000000     0.000000  ...               0.000000   \n",
       "25%          1.000000     0.000000     0.000000  ...               0.050000   \n",
       "50%          2.000000     1.000000     0.000000  ...               0.100000   \n",
       "75%          4.000000     1.000000     1.000000  ...               0.100000   \n",
       "max         74.000000    99.000000    75.000000  ...               1.000000   \n",
       "\n",
       "       max_positive_polarity  avg_negative_polarity  min_negative_polarity  \\\n",
       "count            8510.000000            8510.000000            8510.000000   \n",
       "mean                0.762865              -0.253786              -0.485351   \n",
       "std                 0.227036               0.126297               0.276178   \n",
       "min                 0.000000              -1.000000              -1.000000   \n",
       "25%                 0.600000              -0.322222              -0.700000   \n",
       "50%                 0.800000              -0.247222              -0.500000   \n",
       "75%                 1.000000              -0.178125              -0.291667   \n",
       "max                 1.000000               0.000000               0.000000   \n",
       "\n",
       "       max_negative_polarity  title_subjectivity  title_sentiment_polarity  \\\n",
       "count            8510.000000         8510.000000               8510.000000   \n",
       "mean               -0.113154            0.273500                  0.081225   \n",
       "std                 0.098308            0.324496                  0.262122   \n",
       "min                -1.000000            0.000000                 -1.000000   \n",
       "25%                -0.125000            0.000000                  0.000000   \n",
       "50%                -0.100000            0.100000                  0.000000   \n",
       "75%                -0.050000            0.500000                  0.150000   \n",
       "max                 0.000000            1.000000                  1.000000   \n",
       "\n",
       "       abs_title_subjectivity  abs_title_sentiment_polarity         shares  \n",
       "count             8510.000000                   8510.000000    8510.000000  \n",
       "mean                 0.348659                      0.153195    3276.490599  \n",
       "std                  0.187160                      0.227672   12242.604582  \n",
       "min                  0.000000                      0.000000       4.000000  \n",
       "25%                  0.166667                      0.000000    1000.000000  \n",
       "50%                  0.500000                      0.000000    1600.000000  \n",
       "75%                  0.500000                      0.250000    2900.000000  \n",
       "max                  0.500000                      1.000000  690400.000000  \n",
       "\n",
       "[8 rows x 60 columns]"
      ]
     },
     "execution_count": 7,
     "metadata": {},
     "output_type": "execute_result"
    }
   ],
   "source": [
    "# read description\n",
    "df.describe()"
   ]
  },
  {
   "cell_type": "code",
   "execution_count": 8,
   "metadata": {},
   "outputs": [
    {
     "data": {
      "text/plain": [
       "url                             0\n",
       "timedelta                       0\n",
       "n_tokens_title                  0\n",
       "n_tokens_content                0\n",
       "n_unique_tokens                 0\n",
       "                               ..\n",
       "title_subjectivity              1\n",
       "title_sentiment_polarity        1\n",
       "abs_title_subjectivity          1\n",
       "abs_title_sentiment_polarity    1\n",
       "shares                          1\n",
       "Length: 61, dtype: int64"
      ]
     },
     "execution_count": 8,
     "metadata": {},
     "output_type": "execute_result"
    }
   ],
   "source": [
    "# checking null value\n",
    "df.isnull().sum()"
   ]
  },
  {
   "cell_type": "code",
   "execution_count": 9,
   "metadata": {},
   "outputs": [
    {
     "data": {
      "text/plain": [
       "<matplotlib.axes._subplots.AxesSubplot at 0x8f68fd0>"
      ]
     },
     "execution_count": 9,
     "metadata": {},
     "output_type": "execute_result"
    },
    {
     "data": {
      "image/png": "[encoded data removed]",
      "text/plain": [
       "<Figure size 720x576 with 2 Axes>"
      ]
     },
     "metadata": {
      "needs_background": "light"
     },
     "output_type": "display_data"
    }
   ],
   "source": [
    "# Visualize the null value using heat map\n",
    "plt.figure(figsize=(10,8))\n",
    "sns.heatmap(df.isnull())"
   ]
  },
  {
   "cell_type": "code",
   "execution_count": 10,
   "metadata": {},
   "outputs": [
    {
     "data": {
      "text/plain": [
       "<matplotlib.axes._subplots.AxesSubplot at 0x932f8b0>"
      ]
     },
     "execution_count": 10,
     "metadata": {},
     "output_type": "execute_result"
    },
    {
     "data": {
      "image/png": "[encoded data removed]",
      "text/plain": [
       "<Figure size 1800x720 with 2 Axes>"
      ]
     },
     "metadata": {
      "needs_background": "light"
     },
     "output_type": "display_data"
    }
   ],
   "source": [
    "import missingno as msno\n",
    "msno.matrix(df)"
   ]
  },
  {
   "cell_type": "code",
   "execution_count": 11,
   "metadata": {},
   "outputs": [
    {
     "data": {
      "text/plain": [
       "<matplotlib.axes._subplots.AxesSubplot at 0x983daf0>"
      ]
     },
     "execution_count": 11,
     "metadata": {},
     "output_type": "execute_result"
    },
    {
     "data": {
      "image/png": "[encoded data removed]",
      "text/plain": [
       "<Figure size 1728x720 with 2 Axes>"
      ]
     },
     "metadata": {
      "needs_background": "light"
     },
     "output_type": "display_data"
    }
   ],
   "source": [
    "msno.bar(df)"
   ]
  },
  {
   "cell_type": "code",
   "execution_count": 12,
   "metadata": {},
   "outputs": [
    {
     "data": {
      "text/plain": [
       "<matplotlib.axes._subplots.AxesSubplot at 0x987c9f0>"
      ]
     },
     "execution_count": 12,
     "metadata": {},
     "output_type": "execute_result"
    },
    {
     "data": {
      "image/png": "[encoded data removed]",
      "text/plain": [
       "<Figure size 1440x864 with 2 Axes>"
      ]
     },
     "metadata": {
      "needs_background": "light"
     },
     "output_type": "display_data"
    }
   ],
   "source": [
    "msno.heatmap(df)"
   ]
  },
  {
   "cell_type": "code",
   "execution_count": 13,
   "metadata": {},
   "outputs": [],
   "source": [
    "# fill the null value using mean\n",
    "df.fillna(df.mean(),inplace=True)"
   ]
  },
  {
   "cell_type": "code",
   "execution_count": 14,
   "metadata": {},
   "outputs": [
    {
     "data": {
      "text/plain": [
       "url                             0\n",
       "timedelta                       0\n",
       "n_tokens_title                  0\n",
       "n_tokens_content                0\n",
       "n_unique_tokens                 0\n",
       "                               ..\n",
       "title_subjectivity              0\n",
       "title_sentiment_polarity        0\n",
       "abs_title_subjectivity          0\n",
       "abs_title_sentiment_polarity    0\n",
       "shares                          0\n",
       "Length: 61, dtype: int64"
      ]
     },
     "execution_count": 14,
     "metadata": {},
     "output_type": "execute_result"
    }
   ],
   "source": [
    "# checking null value after fill null value\n",
    "df.isnull().sum()"
   ]
  },
  {
   "cell_type": "code",
   "execution_count": 15,
   "metadata": {},
   "outputs": [
    {
     "data": {
      "text/plain": [
       "1200.0     436\n",
       "1100.0     435\n",
       "1400.0     365\n",
       "1300.0     364\n",
       "1500.0     329\n",
       "          ... \n",
       "14000.0      1\n",
       "381.0        1\n",
       "19100.0      1\n",
       "521.0        1\n",
       "300.0        1\n",
       "Name: shares, Length: 961, dtype: int64"
      ]
     },
     "execution_count": 15,
     "metadata": {},
     "output_type": "execute_result"
    }
   ],
   "source": [
    "# read the target value\n",
    "df.shares.value_counts()"
   ]
  },
  {
   "cell_type": "code",
   "execution_count": 16,
   "metadata": {},
   "outputs": [
    {
     "data": {
      "text/plain": [
       "<matplotlib.axes._subplots.AxesSubplot at 0xdffee50>"
      ]
     },
     "execution_count": 16,
     "metadata": {},
     "output_type": "execute_result"
    },
    {
     "data": {
      "image/png": "[encoded data removed]",
      "text/plain": [
       "<Figure size 1080x576 with 1 Axes>"
      ]
     },
     "metadata": {
      "needs_background": "light"
     },
     "output_type": "display_data"
    }
   ],
   "source": [
    "# visualize the target value using countplot\n",
    "plt.figure(figsize=(15,8))\n",
    "sns.countplot(df.shares.value_counts())"
   ]
  },
  {
   "cell_type": "code",
   "execution_count": 144,
   "metadata": {},
   "outputs": [
    {
     "data": {
      "text/plain": [
       "0       0\n",
       "1       0\n",
       "2       1\n",
       "3       0\n",
       "4       0\n",
       "       ..\n",
       "8506    0\n",
       "8507    0\n",
       "8508    0\n",
       "8509    1\n",
       "8510    0\n",
       "Length: 8511, dtype: int32"
      ]
     },
     "execution_count": 144,
     "metadata": {},
     "output_type": "execute_result"
    }
   ],
   "source": [
    "# read target variable\n",
    "popularity_raw = df[df.keys()[-1]]\n",
    "\n",
    "# use the labelEncoder for popular or not use of 1400 shares\n",
    "from sklearn.preprocessing import LabelEncoder\n",
    "lr=LabelEncoder()\n",
    "popular_label=pd.Series(lr.fit_transform(popularity_raw>=1400))\n",
    "popular_label"
   ]
  },
  {
   "cell_type": "code",
   "execution_count": 18,
   "metadata": {},
   "outputs": [],
   "source": [
    "# drop unnecessary columns and share is target columns\n",
    "X=df.drop(['shares','url','timedelta'],axis=1)"
   ]
  },
  {
   "cell_type": "code",
   "execution_count": 19,
   "metadata": {},
   "outputs": [],
   "source": [
    "# split the data train for 70% and test for 30%\n",
    "from sklearn.model_selection import train_test_split\n",
    "X_train,X_test,y_train,y_test=train_test_split(X,popular_label,test_size=0.3)"
   ]
  },
  {
   "cell_type": "code",
   "execution_count": 20,
   "metadata": {},
   "outputs": [
    {
     "name": "stdout",
     "output_type": "stream",
     "text": [
      "(5957, 58)\n",
      "(2554, 58)\n",
      "(5957,)\n",
      "(2554,)\n"
     ]
    }
   ],
   "source": [
    "# check shape of train and test data\n",
    "print(X_train.shape)\n",
    "print(X_test.shape)\n",
    "print(y_train.shape)\n",
    "print(y_test.shape)"
   ]
  },
  {
   "cell_type": "markdown",
   "metadata": {},
   "source": [
    "## Apply Logistic Regression Model"
   ]
  },
  {
   "cell_type": "code",
   "execution_count": 21,
   "metadata": {},
   "outputs": [
    {
     "name": "stderr",
     "output_type": "stream",
     "text": [
      "C:\\Users\\lenovo\\anaconda3\\lib\\site-packages\\sklearn\\linear_model\\_logistic.py:764: ConvergenceWarning: lbfgs failed to converge (status=1):\n",
      "STOP: TOTAL NO. of ITERATIONS REACHED LIMIT.\n",
      "\n",
      "Increase the number of iterations (max_iter) or scale the data as shown in:\n",
      "    https://scikit-learn.org/stable/modules/preprocessing.html\n",
      "Please also refer to the documentation for alternative solver options:\n",
      "    https://scikit-learn.org/stable/modules/linear_model.html#logistic-regression\n",
      "  extra_warning_msg=_LOGISTIC_SOLVER_CONVERGENCE_MSG)\n"
     ]
    },
    {
     "data": {
      "text/plain": [
       "LogisticRegression()"
      ]
     },
     "execution_count": 21,
     "metadata": {},
     "output_type": "execute_result"
    }
   ],
   "source": [
    "# Apply the model\n",
    "from sklearn.linear_model import LogisticRegression\n",
    "lr=LogisticRegression()\n",
    "lr.fit(X_train,y_train)"
   ]
  },
  {
   "cell_type": "code",
   "execution_count": 22,
   "metadata": {},
   "outputs": [],
   "source": [
    "#predict the train data\n",
    "y_pred=lr.predict(X_train)"
   ]
  },
  {
   "cell_type": "code",
   "execution_count": 23,
   "metadata": {},
   "outputs": [
    {
     "name": "stdout",
     "output_type": "stream",
     "text": [
      "              precision    recall  f1-score   support\n",
      "\n",
      "           0       0.01      0.47      0.03        72\n",
      "           1       0.99      0.59      0.74      5885\n",
      "\n",
      "    accuracy                           0.59      5957\n",
      "   macro avg       0.50      0.53      0.38      5957\n",
      "weighted avg       0.98      0.59      0.73      5957\n",
      "\n"
     ]
    }
   ],
   "source": [
    "# find the accuracy on train data\n",
    "from sklearn.metrics import classification_report\n",
    "print(classification_report(y_pred,y_train))"
   ]
  },
  {
   "cell_type": "code",
   "execution_count": 24,
   "metadata": {},
   "outputs": [
    {
     "name": "stdout",
     "output_type": "stream",
     "text": [
      "              precision    recall  f1-score   support\n",
      "\n",
      "           0       0.02      0.43      0.03        44\n",
      "           1       0.98      0.58      0.73      2510\n",
      "\n",
      "    accuracy                           0.58      2554\n",
      "   macro avg       0.50      0.51      0.38      2554\n",
      "weighted avg       0.97      0.58      0.72      2554\n",
      "\n"
     ]
    }
   ],
   "source": [
    "# find the accuracy on test data\n",
    "y_pred_test=lr.predict(X_test)\n",
    "print(classification_report(y_pred_test,y_test))"
   ]
  },
  {
   "cell_type": "markdown",
   "metadata": {},
   "source": [
    "## Apply AdaBoosting Classifier"
   ]
  },
  {
   "cell_type": "code",
   "execution_count": 25,
   "metadata": {},
   "outputs": [],
   "source": [
    "# use of adaboost classifier\n",
    "from sklearn.ensemble import AdaBoostClassifier\n",
    "abc=AdaBoostClassifier()\n",
    "abc.fit(X_train,y_train)\n",
    "y_train_pred=abc.predict(X_train)"
   ]
  },
  {
   "cell_type": "code",
   "execution_count": 26,
   "metadata": {},
   "outputs": [
    {
     "name": "stdout",
     "output_type": "stream",
     "text": [
      "              precision    recall  f1-score   support\n",
      "\n",
      "           0       0.49      0.62      0.55      1901\n",
      "           1       0.80      0.69      0.74      4056\n",
      "\n",
      "    accuracy                           0.67      5957\n",
      "   macro avg       0.64      0.66      0.65      5957\n",
      "weighted avg       0.70      0.67      0.68      5957\n",
      "\n"
     ]
    }
   ],
   "source": [
    "from sklearn.metrics import classification_report\n",
    "print(classification_report(y_train_pred,y_train))"
   ]
  },
  {
   "cell_type": "code",
   "execution_count": 27,
   "metadata": {},
   "outputs": [
    {
     "name": "stdout",
     "output_type": "stream",
     "text": [
      "              precision    recall  f1-score   support\n",
      "\n",
      "           0       0.47      0.59      0.52       862\n",
      "           1       0.76      0.67      0.71      1692\n",
      "\n",
      "    accuracy                           0.64      2554\n",
      "   macro avg       0.62      0.63      0.62      2554\n",
      "weighted avg       0.66      0.64      0.65      2554\n",
      "\n"
     ]
    }
   ],
   "source": [
    "y_test_pred_test=abc.predict(X_test)\n",
    "print(classification_report(y_test_pred_test,y_test))"
   ]
  },
  {
   "cell_type": "markdown",
   "metadata": {},
   "source": [
    "## Apply Random Forest Classifier Model"
   ]
  },
  {
   "cell_type": "code",
   "execution_count": 28,
   "metadata": {},
   "outputs": [
    {
     "data": {
      "text/plain": [
       "RandomForestClassifier()"
      ]
     },
     "execution_count": 28,
     "metadata": {},
     "output_type": "execute_result"
    }
   ],
   "source": [
    "# use of Random Classifer\n",
    "from sklearn.ensemble import RandomForestClassifier\n",
    "rfc=RandomForestClassifier()\n",
    "rfc.fit(X_train,y_train)"
   ]
  },
  {
   "cell_type": "code",
   "execution_count": 29,
   "metadata": {},
   "outputs": [
    {
     "data": {
      "text/plain": [
       "0.5922444183313749"
      ]
     },
     "execution_count": 29,
     "metadata": {},
     "output_type": "execute_result"
    }
   ],
   "source": [
    "pred=lr.predict(X_train)\n",
    "from sklearn.metrics import accuracy_score,classification_report\n",
    "accuracy_score(pred,y_train)"
   ]
  },
  {
   "cell_type": "code",
   "execution_count": 30,
   "metadata": {},
   "outputs": [
    {
     "name": "stdout",
     "output_type": "stream",
     "text": [
      "              precision    recall  f1-score   support\n",
      "\n",
      "           0       0.01      0.47      0.03        72\n",
      "           1       0.99      0.59      0.74      5885\n",
      "\n",
      "    accuracy                           0.59      5957\n",
      "   macro avg       0.50      0.53      0.38      5957\n",
      "weighted avg       0.98      0.59      0.73      5957\n",
      "\n"
     ]
    }
   ],
   "source": [
    "print(classification_report(pred,y_train))"
   ]
  },
  {
   "cell_type": "code",
   "execution_count": 31,
   "metadata": {},
   "outputs": [
    {
     "name": "stdout",
     "output_type": "stream",
     "text": [
      "              precision    recall  f1-score   support\n",
      "\n",
      "           0       0.02      0.43      0.03        44\n",
      "           1       0.98      0.58      0.73      2510\n",
      "\n",
      "    accuracy                           0.58      2554\n",
      "   macro avg       0.50      0.51      0.38      2554\n",
      "weighted avg       0.97      0.58      0.72      2554\n",
      "\n"
     ]
    }
   ],
   "source": [
    "test_pred=lr.predict(X_test)\n",
    "print(classification_report(test_pred,y_test))"
   ]
  },
  {
   "cell_type": "markdown",
   "metadata": {},
   "source": [
    "## Apply GradientBoosting Classifier"
   ]
  },
  {
   "cell_type": "code",
   "execution_count": 57,
   "metadata": {},
   "outputs": [],
   "source": [
    "from sklearn.ensemble import GradientBoostingClassifier\n",
    "gbc=GradientBoostingClassifier(learning_rate = 1)\n",
    "gbc.fit(X_train,y_train)\n",
    "gbc_pred=gbc.predict(X_train)"
   ]
  },
  {
   "cell_type": "code",
   "execution_count": 58,
   "metadata": {},
   "outputs": [
    {
     "name": "stdout",
     "output_type": "stream",
     "text": [
      "              precision    recall  f1-score   support\n",
      "\n",
      "           0       0.81      0.87      0.84      2404\n",
      "           1       0.93      0.89      0.91      4405\n",
      "\n",
      "    accuracy                           0.88      6809\n",
      "   macro avg       0.87      0.88      0.88      6809\n",
      "weighted avg       0.89      0.88      0.88      6809\n",
      "\n"
     ]
    }
   ],
   "source": [
    "print(classification_report(gbc_pred,y_train))"
   ]
  },
  {
   "cell_type": "code",
   "execution_count": 59,
   "metadata": {},
   "outputs": [
    {
     "name": "stdout",
     "output_type": "stream",
     "text": [
      "              precision    recall  f1-score   support\n",
      "\n",
      "           0       0.38      0.66      0.48       516\n",
      "           1       0.78      0.53      0.63      1186\n",
      "\n",
      "    accuracy                           0.57      1702\n",
      "   macro avg       0.58      0.60      0.56      1702\n",
      "weighted avg       0.66      0.57      0.59      1702\n",
      "\n"
     ]
    }
   ],
   "source": [
    "ypred_test=gbc.predict(X_test)\n",
    "print(classification_report(ypred_test,y_test))"
   ]
  },
  {
   "cell_type": "code",
   "execution_count": 139,
   "metadata": {},
   "outputs": [
    {
     "data": {
      "text/plain": [
       "array([0.61619718, 0.61375661, 0.61552028])"
      ]
     },
     "execution_count": 139,
     "metadata": {},
     "output_type": "execute_result"
    }
   ],
   "source": [
    "# Apply cross valdation score \n",
    "from sklearn.model_selection import cross_val_score\n",
    "cross_val_score(gbc,X_test,y_test,cv=3)"
   ]
  },
  {
   "cell_type": "markdown",
   "metadata": {},
   "source": [
    "## Apply KNeighbors Classsifier model"
   ]
  },
  {
   "cell_type": "code",
   "execution_count": 92,
   "metadata": {},
   "outputs": [],
   "source": [
    "from sklearn.neighbors import KNeighborsClassifier\n",
    "knn=KNeighborsClassifier(n_neighbors=3,metric='euclidean')\n",
    "knn.fit(X_train,y_train)\n",
    "\n",
    "knn_pred=knn.predict(X_train)"
   ]
  },
  {
   "cell_type": "code",
   "execution_count": 93,
   "metadata": {},
   "outputs": [
    {
     "name": "stdout",
     "output_type": "stream",
     "text": [
      "              precision    recall  f1-score   support\n",
      "\n",
      "           0       0.65      0.74      0.69      2259\n",
      "           1       0.86      0.80      0.83      4550\n",
      "\n",
      "    accuracy                           0.78      6809\n",
      "   macro avg       0.76      0.77      0.76      6809\n",
      "weighted avg       0.79      0.78      0.78      6809\n",
      "\n"
     ]
    }
   ],
   "source": [
    "print(classification_report(knn_pred,y_train))"
   ]
  },
  {
   "cell_type": "code",
   "execution_count": 94,
   "metadata": {},
   "outputs": [
    {
     "name": "stdout",
     "output_type": "stream",
     "text": [
      "              precision    recall  f1-score   support\n",
      "\n",
      "           0       0.32      0.57      0.41       502\n",
      "           1       0.73      0.49      0.59      1200\n",
      "\n",
      "    accuracy                           0.52      1702\n",
      "   macro avg       0.53      0.53      0.50      1702\n",
      "weighted avg       0.61      0.52      0.54      1702\n",
      "\n"
     ]
    }
   ],
   "source": [
    "knn_test_pred=knn.predict(X_test)\n",
    "print(classification_report(knn_test_pred,y_test))"
   ]
  },
  {
   "cell_type": "markdown",
   "metadata": {},
   "source": [
    "### Apply Kfold On Kneighbors Clssifier model"
   ]
  },
  {
   "cell_type": "code",
   "execution_count": 150,
   "metadata": {},
   "outputs": [
    {
     "data": {
      "text/plain": [
       "5"
      ]
     },
     "execution_count": 150,
     "metadata": {},
     "output_type": "execute_result"
    }
   ],
   "source": [
    "from sklearn.model_selection import KFold\n",
    "kfold=KFold(n_splits=5)\n",
    "kfold.get_n_splits(X,popular_label)"
   ]
  },
  {
   "cell_type": "code",
   "execution_count": 151,
   "metadata": {},
   "outputs": [
    {
     "data": {
      "text/plain": [
       "[0.5637110980622431,\n",
       " 0.5752056404230317,\n",
       " 0.5746180963572268,\n",
       " 0.5129259694477086,\n",
       " 0.5205640423031728]"
      ]
     },
     "execution_count": 151,
     "metadata": {},
     "output_type": "execute_result"
    }
   ],
   "source": [
    "model_knn=KNeighborsClassifier(n_neighbors=9,metric='euclidean')\n",
    "score=[]\n",
    "\n",
    "for train_index,test_index in kfold.split(X,popular_label):\n",
    "    X_train,X_test=X.iloc[train_index],X.iloc[test_index]\n",
    "    y_train,y_test=popular_label.iloc[train_index],popular_label.iloc[test_index]\n",
    "    \n",
    "    # pass the X_train,y_train in to knn algorithm\n",
    "    model_knn.fit(X_train,y_train)\n",
    "    # predict the model on test data(x_test,y_test)\n",
    "    y_pred_test=model_knn.predict(X_test)\n",
    "    \n",
    "    # accuracy score of pridicted value(y_pred_test) and A.V(y_test)\n",
    "    accuracy=accuracy_score(y_test,y_pred_test)\n",
    "    score.append(accuracy)\n",
    "score"
   ]
  },
  {
   "cell_type": "markdown",
   "metadata": {},
   "source": [
    "## Apply Decision Tree classifier Model"
   ]
  },
  {
   "cell_type": "code",
   "execution_count": 95,
   "metadata": {},
   "outputs": [],
   "source": [
    "from sklearn.tree import DecisionTreeClassifier\n",
    "tree=DecisionTreeClassifier()\n",
    "tree.fit(X_train,y_train)\n",
    "\n",
    "tree_pred=tree.predict(X_train)"
   ]
  },
  {
   "cell_type": "code",
   "execution_count": 96,
   "metadata": {},
   "outputs": [
    {
     "name": "stdout",
     "output_type": "stream",
     "text": [
      "              precision    recall  f1-score   support\n",
      "\n",
      "           0       1.00      1.00      1.00      2592\n",
      "           1       1.00      1.00      1.00      4217\n",
      "\n",
      "    accuracy                           1.00      6809\n",
      "   macro avg       1.00      1.00      1.00      6809\n",
      "weighted avg       1.00      1.00      1.00      6809\n",
      "\n"
     ]
    }
   ],
   "source": [
    "print(classification_report(tree_pred,y_train))"
   ]
  },
  {
   "cell_type": "code",
   "execution_count": 98,
   "metadata": {},
   "outputs": [
    {
     "name": "stdout",
     "output_type": "stream",
     "text": [
      "              precision    recall  f1-score   support\n",
      "\n",
      "           0       0.43      0.60      0.50       637\n",
      "           1       0.68      0.52      0.59      1065\n",
      "\n",
      "    accuracy                           0.55      1702\n",
      "   macro avg       0.55      0.56      0.54      1702\n",
      "weighted avg       0.59      0.55      0.55      1702\n",
      "\n"
     ]
    }
   ],
   "source": [
    "tree_test_pred=tree.predict(X_test)\n",
    "print(classification_report(tree_test_pred,y_test))"
   ]
  },
  {
   "cell_type": "code",
   "execution_count": 101,
   "metadata": {},
   "outputs": [
    {
     "data": {
      "text/plain": [
       "array([0.58064516, 0.52199413, 0.55588235, 0.54117647, 0.55      ])"
      ]
     },
     "execution_count": 101,
     "metadata": {},
     "output_type": "execute_result"
    }
   ],
   "source": [
    "# KFOLD CV:\n",
    "from sklearn.model_selection import cross_val_score\n",
    "cross_val_score(tree,X_test,y_test,cv=5)"
   ]
  },
  {
   "cell_type": "markdown",
   "metadata": {},
   "source": [
    "### Apply Grid Search on DecisionTree Classifier"
   ]
  },
  {
   "cell_type": "code",
   "execution_count": 102,
   "metadata": {},
   "outputs": [],
   "source": [
    "# Hyperparameters\n",
    "# GridSearchCV--->find optimum parameters\n",
    "grid_param={'criterion':['gini','entropy'],\n",
    "           'max_depth':range(2,10,1),\n",
    "           'min_samples_leaf':range(1,10,1)}\n"
   ]
  },
  {
   "cell_type": "code",
   "execution_count": 103,
   "metadata": {},
   "outputs": [
    {
     "data": {
      "text/plain": [
       "GridSearchCV(estimator=DecisionTreeClassifier(),\n",
       "             param_grid={'criterion': ['gini', 'entropy'],\n",
       "                         'max_depth': range(2, 10),\n",
       "                         'min_samples_leaf': range(1, 10)})"
      ]
     },
     "execution_count": 103,
     "metadata": {},
     "output_type": "execute_result"
    }
   ],
   "source": [
    "from sklearn.model_selection import GridSearchCV\n",
    "\n",
    "# initialization\n",
    "grid_search=GridSearchCV(estimator=tree,param_grid=grid_param)\n",
    "\n",
    "# Appling gridsearch on to dataset\n",
    "grid_search.fit(X_train,y_train)"
   ]
  },
  {
   "cell_type": "code",
   "execution_count": 104,
   "metadata": {},
   "outputs": [
    {
     "data": {
      "text/plain": [
       "{'criterion': 'entropy', 'max_depth': 2, 'min_samples_leaf': 1}"
      ]
     },
     "execution_count": 104,
     "metadata": {},
     "output_type": "execute_result"
    }
   ],
   "source": [
    "# return the optimal parameters\n",
    "grid_search.best_params_"
   ]
  },
  {
   "cell_type": "code",
   "execution_count": 129,
   "metadata": {},
   "outputs": [
    {
     "data": {
      "text/plain": [
       "DecisionTreeClassifier(criterion='entropy', max_depth=8)"
      ]
     },
     "execution_count": 129,
     "metadata": {},
     "output_type": "execute_result"
    }
   ],
   "source": [
    "clf=DecisionTreeClassifier(criterion='entropy',max_depth=8,min_samples_leaf=1)\n",
    "\n",
    "# we need to fit the model to the data\n",
    "clf.fit(X_train,y_train)"
   ]
  },
  {
   "cell_type": "code",
   "execution_count": 130,
   "metadata": {},
   "outputs": [
    {
     "name": "stdout",
     "output_type": "stream",
     "text": [
      "              precision    recall  f1-score   support\n",
      "\n",
      "           0       0.70      0.38      0.49       897\n",
      "           1       0.54      0.82      0.65       805\n",
      "\n",
      "    accuracy                           0.59      1702\n",
      "   macro avg       0.62      0.60      0.57      1702\n",
      "weighted avg       0.63      0.59      0.57      1702\n",
      "\n"
     ]
    }
   ],
   "source": [
    "# Prediction on the test data\n",
    "pred_test=clf.predict(X_test)\n",
    "# Classification of actual value and predicte value(GridSearch)\n",
    "print(classification_report(y_test,pred_test))"
   ]
  },
  {
   "cell_type": "markdown",
   "metadata": {},
   "source": [
    "## Conclusion:-"
   ]
  },
  {
   "cell_type": "markdown",
   "metadata": {},
   "source": [
    "- WE find the best model Decision Tree Where got 100 % Accuracy on Train Data And 59% Accuracy on test data\n",
    "- And also bet model Gradient Boosting Classifier whre got 88% Accuracy on train data and 57 % on test data"
   ]
  },
  {
   "cell_type": "code",
   "execution_count": null,
   "metadata": {},
   "outputs": [],
   "source": []
  }
 ],
 "metadata": {
  "kernelspec": {
   "display_name": "Python 3",
   "language": "python",
   "name": "python3"
  },
  "language_info": {
   "codemirror_mode": {
    "name": "ipython",
    "version": 3
   },
   "file_extension": ".py",
   "mimetype": "text/x-python",
   "name": "python",
   "nbconvert_exporter": "python",
   "pygments_lexer": "ipython3",
   "version": "3.7.6"
  }
 },
 "nbformat": 4,
 "nbformat_minor": 4
}
